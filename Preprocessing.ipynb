{
 "cells": [
  {
   "cell_type": "code",
   "execution_count": 40,
   "id": "0410e02e",
   "metadata": {},
   "outputs": [],
   "source": [
    "import numpy as np\n",
    "import math\n",
    "import statistics as st\n",
    "from statistics import mode"
   ]
  },
  {
   "cell_type": "code",
   "execution_count": 41,
   "id": "a51a3325",
   "metadata": {},
   "outputs": [],
   "source": [
    "skel = np.load(\"C:/Users/jonso/OneDrive/Desktop/yolov7-pose-estimation/Free_Skel_Training.npy\")\n",
    "skel = np.load(\"C:/Users/jonso/OneDrive/Desktop/yolov7-pose-estimation/Fly_Skel_Training.npy\")\n",
    "skel = np.load(\"C:/Users/jonso/OneDrive/Desktop/yolov7-pose-estimation/Back_Skel_Training.npy\")\n",
    "skel = np.load(\"C:/Users/jonso/OneDrive/Desktop/yolov7-pose-estimation/Breast_Skel_Training.npy\")\n",
    "skel = np.load(\"C:/Users/jonso/OneDrive/Desktop/yolov7-pose-estimation/Underwater_Skel_Training.npy\")\n",
    "skel = np.load(\"C:/Users/jonso/OneDrive/Desktop/yolov7-pose-estimation/Dive_Skel_Training.npy\")\n"
   ]
  },
  {
   "cell_type": "code",
   "execution_count": 42,
   "id": "ef1c5a83",
   "metadata": {},
   "outputs": [],
   "source": [
    "label = np.full((skel0.shape[0], 1), 0)\n",
    "label = np.full((skel1.shape[0], 1), 1)\n",
    "label = np.full((skel2.shape[0], 1), 2)\n",
    "label = np.full((skel3.shape[0], 1), 3)\n",
    "label = np.full((skel4.shape[0], 1), 4)\n",
    "label = np.full((skel5.shape[0], 1), 5)\n",
    "\n",
    "#print(label)"
   ]
  },
  {
   "cell_type": "code",
   "execution_count": 43,
   "id": "226a4ee6",
   "metadata": {},
   "outputs": [
    {
     "name": "stdout",
     "output_type": "stream",
     "text": [
      "original skel shape: (3054, 17, 2)\n",
      "original label shape: (3054, 1)\n",
      "original shape: (3054, 17, 2)\n",
      "new shape (skel): (2944, 17, 2)\n",
      "new shape (label): (2944, 1)\n",
      "A total of 110 elements have been removed\n",
      "Skeleton data shape: (90, 64, 17, 2)\n",
      "Label data shape: (90, 1)\n"
     ]
    }
   ],
   "source": [
    "\n",
    "def convert128(testSkel):\n",
    "    global y, nSkel, nLabel\n",
    "    y = int(skel.shape[0]/64)-2\n",
    "    nSkel = np.empty([y, 128, 17, 2])\n",
    "    nLabel = np.empty([y, 1])\n",
    "    for i in range(0, y):\n",
    "        nSkel[i] = skel[(i*64):(i*64)+128,:,:]\n",
    "        nLabel[i] = st.mode(label.flatten()[(i*64):(i*64)+128])\n",
    "    print(f'Skeleton data shape: {nSkel.shape}')\n",
    "    print(f'Label data shape: {nLabel.shape}')\n",
    "\n",
    "def convert64(testSkel):\n",
    "    global y, nSkel, nLabel\n",
    "    y = int(skel.shape[0]/32)-2\n",
    "    nSkel = np.empty([y, 64, 17, 2])\n",
    "    nLabel = np.empty([y, 1])\n",
    "    for i in range(0, y):\n",
    "        nSkel[i] = skel[(i*32):(i*32)+64,:,:]\n",
    "        nLabel[i] = st.mode(label.flatten()[(i*32):(i*32)+64])\n",
    "    print(f'Skeleton data shape: {nSkel.shape}')\n",
    "    print(f'Label data shape: {nLabel.shape}')\n",
    "    return y, nSkel, nLabel\n",
    "\n",
    "def convert32(testSkel):\n",
    "    global y, nSkel, nLabel\n",
    "    y = int(skel.shape[0]/16)-2\n",
    "    nSkel = np.empty([y, 32, 17, 2])\n",
    "    nLabel = np.empty([y, 1])\n",
    "    for i in range(0, y):\n",
    "        nSkel[i] = skel[(i*16):(i*16)+32,:,:]\n",
    "        nLabel[i] = st.mode(label.flatten()[(i*16):(i*16)+32])\n",
    "    print(f'Skeleton data shape: {nSkel.shape}')\n",
    "    print(f'Label data shape: {nLabel.shape}')\n",
    "    return y, nSkel, nLabel\n",
    "\n",
    "#label = np.load(\"C:/Users/jonso/OneDrive/Desktop/Trinh Project/Originals/labels20.npy\")\n",
    "#skel = np.load(\"C:/Users/jonso/OneDrive/Desktop/yolov7-pose-estimation/Free_Skel_Training.npy\")\n",
    "print(f'original skel shape: {skel.shape}')\n",
    "print(f'original label shape: {label.shape}')\n",
    "print(f'original shape: {skel.shape}')\n",
    "#removes last 2D arrays to make divisible by 128\n",
    "c=0\n",
    "while skel.shape[0]%128 != 0:\n",
    "    skel = np.delete(skel, -1, axis=0)\n",
    "    label = np.delete(label, -1, axis = 0)\n",
    "    c += 1\n",
    "print(f'new shape (skel): {skel.shape}')\n",
    "print(f'new shape (label): {label.shape}')\n",
    "print(f'A total of {c} elements have been removed')\n",
    "y=0\n",
    "nSkel = 0\n",
    "nLabel = 0\n",
    "convert64(skel)\n",
    "np.save('DiveLabel(64).npy', nLabel)\n",
    "np.save('DiveSkel(64).npy', nSkel)"
   ]
  }
 ],
 "metadata": {
  "kernelspec": {
   "display_name": "Python 3 (ipykernel)",
   "language": "python",
   "name": "python3"
  },
  "language_info": {
   "codemirror_mode": {
    "name": "ipython",
    "version": 3
   },
   "file_extension": ".py",
   "mimetype": "text/x-python",
   "name": "python",
   "nbconvert_exporter": "python",
   "pygments_lexer": "ipython3",
   "version": "3.11.4"
  }
 },
 "nbformat": 4,
 "nbformat_minor": 5
}
